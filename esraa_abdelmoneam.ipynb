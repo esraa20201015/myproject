{
  "nbformat": 4,
  "nbformat_minor": 0,
  "metadata": {
    "colab": {
      "provenance": []
    },
    "kernelspec": {
      "name": "python3",
      "display_name": "Python 3"
    },
    "language_info": {
      "name": "python"
    }
  },
  "cells": [
    {
      "cell_type": "code",
      "execution_count": 1,
      "metadata": {
        "colab": {
          "base_uri": "https://localhost:8080/"
        },
        "id": "hM7OmsdZeO4p",
        "outputId": "eb2db004-ce18-4976-ffbb-f1a8deb729e9"
      },
      "outputs": [
        {
          "output_type": "stream",
          "name": "stdout",
          "text": [
            "Esraa, Abdelmoneam, [], []\n",
            "Income added: 20\n",
            "Expense added: 3\n",
            "Income added: 20\n",
            "Expense added: 5\n",
            "Income added: 10\n",
            "Expense added: 10\n",
            "Esraa, Abdelmoneam, [20, 20, 10], [3, 5, 10]\n",
            "Total income: 50\n",
            "Total expenses: 18\n",
            "Account balance: 32\n"
          ]
        }
      ],
      "source": [
        "class UserAccount:\n",
        "    def __init__(self, first_name=\"\", last_name=\"\", incomes=None, expenses_properties=None):\n",
        "        self.first_name = first_name\n",
        "        self.last_name = last_name\n",
        "        self.incomes = incomes if incomes is not None else []\n",
        "        self.expenses_properties = expenses_properties if expenses_properties is not None else []\n",
        "\n",
        "    def display_account_info(self):\n",
        "        print(f\"{self.first_name}, {self.last_name}, {self.incomes}, {self.expenses_properties}\")\n",
        "\n",
        "    def add_income(self, income):\n",
        "        self.incomes.append(income)\n",
        "        print(f\"Income added: {income}\")\n",
        "\n",
        "    def add_expense(self, expense):\n",
        "        self.expenses_properties.append(expense)\n",
        "        print(f\"Expense added: {expense}\")\n",
        "\n",
        "    def total_income(self):\n",
        "        return sum(self.incomes)\n",
        "\n",
        "    def total_expense(self):\n",
        "        return sum(self.expenses_properties)\n",
        "\n",
        "    def account_info(self):\n",
        "        self.display_account_info()\n",
        "        print(f\"Total income: {self.total_income()}\")\n",
        "        print(f\"Total expenses: {self.total_expense()}\")\n",
        "\n",
        "    def account_balance(self):\n",
        "        return self.total_income() - self.total_expense()\n",
        "\n",
        "# Creating an instance of the UserAccount class without passing first name and last name\n",
        "my_account = UserAccount()\n",
        "\n",
        "# Setting first name and last name after creating the instance\n",
        "my_account.first_name = 'Esraa'\n",
        "my_account.last_name = 'Abdelmoneam'\n",
        "\n",
        "# Displaying initial account info\n",
        "my_account.display_account_info()\n",
        "\n",
        "# Adding incomes and expenses\n",
        "my_account.add_income(20)\n",
        "my_account.add_expense(3)\n",
        "my_account.add_income(20)\n",
        "my_account.add_expense(5)\n",
        "my_account.add_income(10)\n",
        "my_account.add_expense(10)\n",
        "\n",
        "# Displaying updated account info and balance\n",
        "my_account.account_info()\n",
        "print(f\"Account balance: {my_account.account_balance()}\")\n"
      ]
    }
  ]
}